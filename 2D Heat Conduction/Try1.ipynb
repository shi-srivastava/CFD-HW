{
 "cells": [
  {
   "cell_type": "code",
   "execution_count": 3,
   "source": [
    "import numpy as np\r\n",
    "import seaborn as sn\r\n",
    "import matplotlib.pyplot as plt"
   ],
   "outputs": [],
   "metadata": {}
  },
  {
   "cell_type": "code",
   "execution_count": 4,
   "source": [
    "#Global Variables\r\n",
    "grid_x=10\r\n",
    "grid_y=10\r\n",
    "print(\"Enter grid size (column): \")\r\n",
    "grid_x=input()\r\n",
    "print(\"Enter grid size (row): \")\r\n",
    "grid_y=input()\r\n",
    "\r\n",
    "print(\"Grid size: \",grid_x, \" x \",grid_y)\r\n"
   ],
   "outputs": [
    {
     "output_type": "error",
     "ename": "SyntaxError",
     "evalue": "cannot assign to literal (<ipython-input-4-6c140b536c08>, line 2)",
     "traceback": [
      "\u001b[1;36m  File \u001b[1;32m\"<ipython-input-4-6c140b536c08>\"\u001b[1;36m, line \u001b[1;32m2\u001b[0m\n\u001b[1;33m    grid_x=10,grid_y=10\u001b[0m\n\u001b[1;37m           ^\u001b[0m\n\u001b[1;31mSyntaxError\u001b[0m\u001b[1;31m:\u001b[0m cannot assign to literal\n"
     ]
    }
   ],
   "metadata": {}
  },
  {
   "cell_type": "code",
   "execution_count": null,
   "source": [
    "def Dirichlet(x,y,):\r\n",
    "    "
   ],
   "outputs": [],
   "metadata": {}
  }
 ],
 "metadata": {
  "orig_nbformat": 4,
  "language_info": {
   "name": "python",
   "version": "3.8.8",
   "mimetype": "text/x-python",
   "codemirror_mode": {
    "name": "ipython",
    "version": 3
   },
   "pygments_lexer": "ipython3",
   "nbconvert_exporter": "python",
   "file_extension": ".py"
  },
  "kernelspec": {
   "name": "python3",
   "display_name": "Python 3.8.8 64-bit ('base': conda)"
  },
  "interpreter": {
   "hash": "24e81c3c0cf335d0d543109379ae453fc748055891ae9969476886f28ca73282"
  }
 },
 "nbformat": 4,
 "nbformat_minor": 2
}