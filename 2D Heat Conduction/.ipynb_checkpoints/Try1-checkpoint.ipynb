{
 "cells": [
  {
   "cell_type": "code",
   "execution_count": 39,
   "metadata": {},
   "outputs": [],
   "source": [
    "import numpy as np\n",
    "import seaborn as sn\n",
    "import matplotlib.pyplot as plt\n",
    "from scipy.stats import kde"
   ]
  },
  {
   "cell_type": "code",
   "execution_count": 28,
   "metadata": {},
   "outputs": [],
   "source": [
    "#Notation Used\n",
    "# East = 0\n",
    "# West = 1\n",
    "# North = 2\n",
    "# South = 3"
   ]
  },
  {
   "cell_type": "code",
   "execution_count": 29,
   "metadata": {},
   "outputs": [
    {
     "name": "stdout",
     "output_type": "stream",
     "text": [
      "Enter grid size (column): \n",
      "10\n",
      "Enter grid size (row): \n",
      "10\n"
     ]
    }
   ],
   "source": [
    "#Global Variables\n",
    "\n",
    "print(\"Enter grid size (column): \")\n",
    "grid_x=int(input())\n",
    "print(\"Enter grid size (row): \")\n",
    "grid_y=int(input())\n",
    "\n",
    "Grid=[[0]*(grid_x+2)]*(grid_y+2)\n",
    "#print(\"Grid: \",Grid)\n",
    "\n",
    "a=[1,1,1,1]\n",
    "a_p=-(a[0]+a[1]+a[2]+a[3])\n"
   ]
  },
  {
   "cell_type": "code",
   "execution_count": 54,
   "metadata": {},
   "outputs": [
    {
     "name": "stdout",
     "output_type": "stream",
     "text": [
      "[[[10, 1], [10, 2], [10, 3], [10, 4], [10, 5], [10, 6], [10, 7], [10, 8], [10, 9], [10, 10]], [[1, 1], [1, 2], [1, 3], [1, 4], [1, 5], [1, 6], [1, 7], [1, 8], [1, 9], [1, 10]], [[1, 1], [2, 1], [3, 1], [4, 1], [5, 1], [6, 1], [7, 1], [8, 1], [9, 1], [10, 1]], [[1, 10], [2, 10], [3, 10], [4, 10], [5, 10], [6, 10], [7, 10], [8, 10], [9, 10], [10, 10]]]\n"
     ]
    }
   ],
   "source": [
    "block=[]\n",
    "M=int(grid_y)\n",
    "N=int(grid_x)\n",
    "\n",
    "\n",
    "#East - 0\n",
    "temp0=[]\n",
    "for i in range(1,N+1):\n",
    "    temp=[M,i]\n",
    "    temp0.append(temp)\n",
    "block.append(temp0)\n",
    "\n",
    "#West - 1\n",
    "temp1=[]\n",
    "for i in range(1,N+1):\n",
    "    temp=[1,i]\n",
    "    temp1.append(temp)\n",
    "block.append(temp1)\n",
    "\n",
    "#North - 2\n",
    "temp2=[]\n",
    "for i in range(1,M+1):\n",
    "    temp=[i,1]\n",
    "    temp2.append(temp)\n",
    "block.append(temp2)\n",
    "\n",
    "#South - 3\n",
    "temp3=[]\n",
    "for i in range(1,M+1):\n",
    "    temp=[i,N]\n",
    "    temp3.append(temp)\n",
    "block.append(temp3)\n",
    "\n",
    "print(block)"
   ]
  },
  {
   "cell_type": "code",
   "execution_count": 55,
   "metadata": {},
   "outputs": [],
   "source": [
    "#Dirichlet\n",
    "def Dirichlet(side,blocks):\n",
    "    T1=1\n",
    "    for i in blocks:\n",
    "        x=int(i[0])\n",
    "        y=int(i[1])\n",
    "        sum=0\n",
    "        T_now=Grid[x][y]\n",
    "        T=([int(Grid[x-1][y]),int(Grid[x+1][y]),int(Grid[x][y-1]),int(Grid[x][y+1])])\n",
    "\n",
    "        #Calculating for one cell\n",
    "        for T_x in T:\n",
    "            if T.index(T_x)!=side:\n",
    "                sum+=T_x*a[T.index(T_x)]\n",
    "        T_now=(2*T1*a[side]+sum)/(a[side]-a_p)\n",
    "\n",
    "        #Putting Back values\n",
    "        Grid[x][y]=T_now"
   ]
  },
  {
   "cell_type": "code",
   "execution_count": 56,
   "metadata": {},
   "outputs": [],
   "source": [
    "#Homogeneous\n",
    "def H_Neu(side,blocks):\n",
    "    T1=1\n",
    "    for i in blocks:\n",
    "        x=i[0]\n",
    "        y=i[1]\n",
    "        sum=0\n",
    "        T_now=Grid[x][y]\n",
    "        T=([int(Grid[x-1][y]),int(Grid[x+1][y]),int(Grid[x][y-1]),int(Grid[x][y+1])])\n",
    "\n",
    "        #Calculating for one cell\n",
    "        for T_x in T:\n",
    "            if T.index(T_x)!=side:\n",
    "                sum+=T_x*a[T.index(T_x)]\n",
    "        T_now=(2*T1*a[side]+sum)/(a[side]-a_p)\n",
    "\n",
    "        #Putting Back values\n",
    "        Grid[x][y]=T_now"
   ]
  },
  {
   "cell_type": "code",
   "execution_count": 57,
   "metadata": {},
   "outputs": [],
   "source": [
    "#Non-Homogeneous\n",
    "def NH_Neu(side,blocks):\n",
    "    T1=1\n",
    "    for i in blocks:\n",
    "        x=i[0]\n",
    "        y=i[1]\n",
    "        sum=0\n",
    "        T_now=Grid[x][y]\n",
    "        T=([int(Grid[x-1][y]),int(Grid[x+1][y]),int(Grid[x][y-1]),int(Grid[x][y+1])])\n",
    "\n",
    "        #Calculating for one cell\n",
    "        for T_x in T:\n",
    "            if T.index(T_x)!=side:\n",
    "                sum+=T_x*a[T.index(T_x)]\n",
    "        T_now=(2*T1*a[side]+sum)/(a[side]-a_p)\n",
    "\n",
    "        #Putting Back values\n",
    "        Grid[x][y]=T_now"
   ]
  },
  {
   "cell_type": "code",
   "execution_count": 58,
   "metadata": {},
   "outputs": [],
   "source": [
    "#Mixed (Robin)\n",
    "def Mixed(side,blocks):\n",
    "    T1=1\n",
    "    for i in blocks:\n",
    "        x=i[0]\n",
    "        y=i[1]\n",
    "        sum=0\n",
    "        T_now=Grid[x][y]\n",
    "        T=([int(Grid[x-1][y]),int(Grid[x+1][y]),int(Grid[x][y-1]),int(Grid[x][y+1])])\n",
    "\n",
    "        #Calculating for one cell\n",
    "        for T_x in T:\n",
    "            if T.index(T_x)!=side:\n",
    "                sum+=T_x*a[T.index(T_x)]\n",
    "        T_now=(2*T1*a[side]+sum)/(a[side]-a_p)\n",
    "\n",
    "        #Putting Back values\n",
    "        Grid[x][y]=T_now"
   ]
  },
  {
   "cell_type": "code",
   "execution_count": 59,
   "metadata": {},
   "outputs": [],
   "source": [
    "#Choosing the type\n",
    "def choose(cho,side,block):\n",
    "    if(dire==1):\n",
    "        Dirichlet(side,block)\n",
    "    elif(dire==2):\n",
    "        H_Neu(side,block)\n",
    "    elif(dire==3):\n",
    "        NH_Neu(side,block)\n",
    "    elif(dire==4):\n",
    "        Mixed(side,block)\n",
    "    return 0"
   ]
  },
  {
   "cell_type": "code",
   "execution_count": 60,
   "metadata": {},
   "outputs": [
    {
     "name": "stdout",
     "output_type": "stream",
     "text": [
      "Choose from the following:\n",
      "\t1. Dirichlet\n",
      "\t2. Homogeneous Neumann\n",
      "\t3. Non-Homogeneous Neumann\n",
      "\t4. Mixed (Robin)  \n"
     ]
    }
   ],
   "source": [
    "print(\"Choose from the following:\\n\\t1. Dirichlet\\n\\t2. Homogeneous Neumann\\n\\t3. Non-Homogeneous Neumann\\n\\t4. Mixed (Robin)  \")"
   ]
  },
  {
   "cell_type": "code",
   "execution_count": 61,
   "metadata": {},
   "outputs": [
    {
     "name": "stdout",
     "output_type": "stream",
     "text": [
      "Enter 1-4 for each wall\n",
      "\n",
      "East: \n",
      "1\n",
      "West: \n",
      "1\n",
      "North: \n",
      "1\n",
      "South: \n",
      "1\n",
      "\n",
      "\n",
      "Enter Number of Iterations: \n",
      "10\n"
     ]
    }
   ],
   "source": [
    "print(\"Enter 1-4 for each wall\\n\")\n",
    "print(\"East: \")\n",
    "E=int(input())\n",
    "print(\"West: \")\n",
    "W=int(input())\n",
    "print(\"North: \")\n",
    "N=int(input())\n",
    "print(\"South: \")\n",
    "S=int(input())\n",
    "\n",
    "print(\"\\n\\nEnter Number of Iterations: \")\n",
    "ite=int(input())\n",
    "\n",
    "for i in range(ite):\n",
    "    East=choose(E,0,block[0])\n",
    "    West=choose(W,1,block[1])\n",
    "    North=choose(N,2,block[2])\n",
    "    South=choose(S,3,block[3])"
   ]
  },
  {
   "cell_type": "code",
   "execution_count": 62,
   "metadata": {},
   "outputs": [
    {
     "name": "stdout",
     "output_type": "stream",
     "text": [
      "[0, 0.4, 0.4, 0.4, 0.4, 0.4, 0.4, 0.4, 0.4, 0.4, 0.4, 0]\n",
      "[0, 0.4, 0.4, 0.4, 0.4, 0.4, 0.4, 0.4, 0.4, 0.4, 0.4, 0]\n",
      "[0, 0.4, 0.4, 0.4, 0.4, 0.4, 0.4, 0.4, 0.4, 0.4, 0.4, 0]\n",
      "[0, 0.4, 0.4, 0.4, 0.4, 0.4, 0.4, 0.4, 0.4, 0.4, 0.4, 0]\n",
      "[0, 0.4, 0.4, 0.4, 0.4, 0.4, 0.4, 0.4, 0.4, 0.4, 0.4, 0]\n",
      "[0, 0.4, 0.4, 0.4, 0.4, 0.4, 0.4, 0.4, 0.4, 0.4, 0.4, 0]\n",
      "[0, 0.4, 0.4, 0.4, 0.4, 0.4, 0.4, 0.4, 0.4, 0.4, 0.4, 0]\n",
      "[0, 0.4, 0.4, 0.4, 0.4, 0.4, 0.4, 0.4, 0.4, 0.4, 0.4, 0]\n",
      "[0, 0.4, 0.4, 0.4, 0.4, 0.4, 0.4, 0.4, 0.4, 0.4, 0.4, 0]\n",
      "[0, 0.4, 0.4, 0.4, 0.4, 0.4, 0.4, 0.4, 0.4, 0.4, 0.4, 0]\n",
      "[0, 0.4, 0.4, 0.4, 0.4, 0.4, 0.4, 0.4, 0.4, 0.4, 0.4, 0]\n",
      "[0, 0.4, 0.4, 0.4, 0.4, 0.4, 0.4, 0.4, 0.4, 0.4, 0.4, 0]\n"
     ]
    }
   ],
   "source": [
    "for i in Grid:\n",
    "    print(i)"
   ]
  }
 ],
 "metadata": {
  "interpreter": {
   "hash": "24e81c3c0cf335d0d543109379ae453fc748055891ae9969476886f28ca73282"
  },
  "kernelspec": {
   "display_name": "Python 3",
   "language": "python",
   "name": "python3"
  },
  "language_info": {
   "codemirror_mode": {
    "name": "ipython",
    "version": 3
   },
   "file_extension": ".py",
   "mimetype": "text/x-python",
   "name": "python",
   "nbconvert_exporter": "python",
   "pygments_lexer": "ipython3",
   "version": "3.8.8"
  }
 },
 "nbformat": 4,
 "nbformat_minor": 2
}
